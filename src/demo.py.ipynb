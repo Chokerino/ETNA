{
 "cells": [
  {
   "cell_type": "code",
   "execution_count": null,
   "metadata": {},
   "outputs": [],
   "source": [
    "import numpy as np\n",
    "import networkx as nx\n",
    "import random\n",
    "import torch\n",
    "import matplotlib.pyplot as plt\n",
    "from collections import defaultdict\n",
    "from sklearn import metrics\n",
    "\n",
    "import load_data as ld\n",
    "import func\n",
    "import evaluation\n",
    "import algorithms.multiorg_SDNE as sdne"
   ]
  },
  {
   "cell_type": "code",
   "execution_count": null,
   "metadata": {},
   "outputs": [],
   "source": [
    "org_num = 2\n",
    "org0 = 'cel'\n",
    "org1 = 'sce'\n",
    "\n",
    "#load network\n",
    "g0 = ld.load_ppi(org0, k_core=0, lcc=False)\n",
    "g1 = ld.load_ppi(org1, k_core=0, lcc=False)"
   ]
  },
  {
   "cell_type": "code",
   "execution_count": null,
   "metadata": {},
   "outputs": [],
   "source": [
    "#node2index and index2node mapping\n",
    "g0_node2index = func.node2index(g0)\n",
    "g0_node2index = defaultdict(lambda:-1, g0_node2index)\n",
    "g1_node2index = func.node2index(g1)\n",
    "g1_node2index = defaultdict(lambda:-1, g1_node2index)\n",
    "g0_index2node = func.index2node(g0)\n",
    "g1_index2node = func.index2node(g1)"
   ]
  },
  {
   "cell_type": "code",
   "execution_count": null,
   "metadata": {},
   "outputs": [],
   "source": [
    "#load ontology file\n",
    "ontology_file = org0 + '_' + org1 + '_ontology_pairs.txt'\n",
    "ontology = ld.load_go_pairs(org0, org1, ontology_file)\n",
    "ontology = ld.filter_anchor(ontology, g0_node2index, g1_node2index)\n",
    "print('ontology', len(ontology))\n",
    "\n",
    "#load ortholog file\n",
    "ortholog = ld.load_anchor(org0, org1)\n",
    "ortholog = ld.filter_anchor(ortholog, g0_node2index, g1_node2index)\n",
    "print('ortholog', len(ortholog))\n",
    "\n",
    "ortholog_set = set()\n",
    "ortholog_matrix = np.zeros((len(g0.nodes()), len(g1.nodes())), dtype=int)\n",
    "\n",
    "for i, j, k in ortholog:\n",
    "    i_idx = g0_node2index[i]\n",
    "    j_idx = g1_node2index[j]\n",
    "    ortholog_set.add((i_idx, j_idx))\n",
    "    ortholog_matrix[i_idx][j_idx] = 1\n",
    "\n",
    "\n",
    "\n",
    "ontology_set = set()\n",
    "ontology_matrix = np.zeros((len(g0.nodes()), len(g1.nodes())), dtype=int)\n",
    "for i,j in ontology:\n",
    "    i_idx = g0_node2index[i]\n",
    "    j_idx = g1_node2index[j]\n",
    "    ontology_set.add((i_idx, j_idx))\n",
    "    ontology_matrix[i_idx][j_idx] = 1"
   ]
  },
  {
   "cell_type": "code",
   "execution_count": null,
   "metadata": {},
   "outputs": [],
   "source": [
    "#select gene with at least one annotation\n",
    "org0_annotations = np.sum(ontology_matrix, axis=1)\n",
    "org1_annotations = np.sum(ontology_matrix, axis=0)\n",
    "org0_ontology_indexes = [x for x in range(len(org0_annotations)) if org0_annotations[x]>0]\n",
    "org1_ontology_indexes = [x for x in range(len(org1_annotations)) if org1_annotations[x]>0]\n",
    "\n",
    "test_matrix = ontology_matrix[org0_indexes][:,org1_indexes]"
   ]
  },
  {
   "cell_type": "code",
   "execution_count": null,
   "metadata": {},
   "outputs": [],
   "source": [
    "device = 'cpu'\n",
    "#initialize model\n",
    "joint = sdne.SDNEJoint([len(g0.nodes), len(g1.nodes)], hidden_layers=[1024, 128], device=device)\n",
    "joint.to(device)\n",
    "for x in joint.encoders:\n",
    "    x.to(device)\n",
    "for x in joint.decoders:\n",
    "    x.to((device))\n",
    "model0 = sdne.SDNE(g0, 0, joint, device=device)\n",
    "model1 = sdne.SDNE(g1, 1, joint, device=device)\n",
    "optimizer_align=torch.optim.Adam(joint.encoders_parameters(0)+\n",
    "                                 joint.encoders_parameters(1))\n",
    "models = [model0, model1]\n",
    "indexes = [(x,y) for x in range(org_num) for y in range(x+1, org_num)]"
   ]
  },
  {
   "cell_type": "code",
   "execution_count": null,
   "metadata": {},
   "outputs": [],
   "source": [
    "#model training\n",
    "for itr in range(5):\n",
    "    for m in models:\n",
    "        m.fit(batch_size=128, epochs=10, verbose=0)\n",
    "    sdne.cross_training(models, [ortholog_set], indexes, \n",
    "                   [ortholog_matrix], optimizer_align, device=device)"
   ]
  },
  {
   "cell_type": "code",
   "execution_count": null,
   "metadata": {},
   "outputs": [],
   "source": [
    "#get embedding and score matrix\n",
    "emb0 = m0.get_embeddings()\n",
    "emb1 = m1.get_embeddings()\n",
    "S = emb0.dot(emb1.T)"
   ]
  },
  {
   "cell_type": "code",
   "execution_count": null,
   "metadata": {},
   "outputs": [],
   "source": [
    "evaluation.evaluate_all(evaluate_all(S[org0_indexes][:,org1_indexes], test_matrix))"
   ]
  }
 ],
 "metadata": {
  "kernelspec": {
   "display_name": "Python 3",
   "language": "python",
   "name": "python3"
  },
  "language_info": {
   "codemirror_mode": {
    "name": "ipython",
    "version": 3
   },
   "file_extension": ".py",
   "mimetype": "text/x-python",
   "name": "python",
   "nbconvert_exporter": "python",
   "pygments_lexer": "ipython3",
   "version": "3.7.7"
  }
 },
 "nbformat": 4,
 "nbformat_minor": 4
}
