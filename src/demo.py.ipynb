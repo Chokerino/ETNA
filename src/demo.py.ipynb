{
 "cells": [
  {
   "cell_type": "code",
   "execution_count": 16,
   "metadata": {},
   "outputs": [],
   "source": [
    "import numpy as np\n",
    "import networkx as nx\n",
    "import random\n",
    "import torch\n",
    "import matplotlib.pyplot as plt\n",
    "from collections import defaultdict\n",
    "from sklearn import metrics\n",
    "import importlib\n",
    "\n",
    "import load_data as ld\n",
    "import func\n",
    "import evaluation\n",
    "import algorithms.ETNA as etna\n",
    "import algorithms.helper as helper"
   ]
  },
  {
   "cell_type": "code",
   "execution_count": 2,
   "metadata": {},
   "outputs": [
    {
     "name": "stdout",
     "output_type": "stream",
     "text": [
      "load the ppi network of sce\n",
      "read as directed: 7073 nodes,          116326 edges\n",
      "remove selfloop edges: 7072 nodes, 114578 edges\n",
      "convert to undirected: 7072 nodes, 114578 edges\n",
      "keep the largest cc: 7072 nodes, 114578 edges\n",
      "return the 0-core: 7072 nodes,                114578 edges\n",
      "load the ppi network of spo\n",
      "read as directed: 3573 nodes,          13122 edges\n",
      "remove selfloop edges: 3508 nodes, 12567 edges\n",
      "convert to undirected: 3508 nodes, 12567 edges\n",
      "keep the largest cc: 3508 nodes, 12567 edges\n",
      "return the 0-core: 3508 nodes,                12567 edges\n"
     ]
    }
   ],
   "source": [
    "\n",
    "org0 = 'sce'\n",
    "org1 = 'spo'\n",
    "\n",
    "#load network\n",
    "g0 = ld.load_ppi(org0, k_core=0, lcc=False)\n",
    "g1 = ld.load_ppi(org1, k_core=0, lcc=False)"
   ]
  },
  {
   "cell_type": "code",
   "execution_count": 5,
   "metadata": {},
   "outputs": [],
   "source": [
    "#node2index and index2node mapping\n",
    "g0_node2index = func.node2index(g0)\n",
    "g0_node2index = defaultdict(lambda:-1, g0_node2index)\n",
    "g1_node2index = func.node2index(g1)\n",
    "g1_node2index = defaultdict(lambda:-1, g1_node2index)\n",
    "g0_index2node = func.index2node(g0)\n",
    "g1_index2node = func.index2node(g1)"
   ]
  },
  {
   "cell_type": "code",
   "execution_count": 7,
   "metadata": {},
   "outputs": [
    {
     "name": "stdout",
     "output_type": "stream",
     "text": [
      "(244188, 2)\n",
      "ontology 222217\n",
      "ortholog 2189\n"
     ]
    }
   ],
   "source": [
    "#load ontology file\n",
    "ontology_file = org0 + '_' + org1 + '_ontology_pairs_expert.txt'\n",
    "ontology = ld.load_go_pairs(org0, org1, ontology_file)\n",
    "ontology = ld.filter_anchor(ontology, g0_node2index, g1_node2index)\n",
    "print('ontology', len(ontology))\n",
    "\n",
    "#load ortholog file\n",
    "ortholog = ld.load_anchor(org0, org1)\n",
    "ortholog = ld.filter_anchor(ortholog, g0_node2index, g1_node2index)\n",
    "print('ortholog', len(ortholog))\n",
    "\n",
    "ortholog_set = set()\n",
    "ortholog_matrix = np.zeros((len(g0.nodes()), len(g1.nodes())), dtype=int)\n",
    "\n",
    "for i, j, k in ortholog:\n",
    "    i_idx = g0_node2index[i]\n",
    "    j_idx = g1_node2index[j]\n",
    "    ortholog_set.add((i_idx, j_idx))\n",
    "    ortholog_matrix[i_idx][j_idx] = 1\n",
    "\n",
    "\n",
    "\n",
    "ontology_set = set()\n",
    "ontology_matrix = np.zeros((len(g0.nodes()), len(g1.nodes())), dtype=int)\n",
    "for i,j in ontology:\n",
    "    i_idx = g0_node2index[i]\n",
    "    j_idx = g1_node2index[j]\n",
    "    ontology_set.add((i_idx, j_idx))\n",
    "    ontology_matrix[i_idx][j_idx] = 1"
   ]
  },
  {
   "cell_type": "code",
   "execution_count": 9,
   "metadata": {},
   "outputs": [],
   "source": [
    "#select gene with at least one annotation\n",
    "org0_annotations = np.sum(ontology_matrix, axis=1)\n",
    "org1_annotations = np.sum(ontology_matrix, axis=0)\n",
    "org0_ontology_indexes = [x for x in range(len(org0_annotations)) if org0_annotations[x]>0]\n",
    "org1_ontology_indexes = [x for x in range(len(org1_annotations)) if org1_annotations[x]>0]\n",
    "\n",
    "test_matrix = ontology_matrix[org0_ontology_indexes][:,org1_ontology_indexes]"
   ]
  },
  {
   "cell_type": "code",
   "execution_count": 13,
   "metadata": {},
   "outputs": [],
   "source": [
    "g0_adj = nx.adjacency_matrix(g0)\n",
    "g0_lap = nx.laplacian_matrix(g0).toarray()\n",
    "g0_dw = helper.direct_compute_deepwalk_matrix(g0_adj, 10).toarray()\n",
    "\n",
    "g0_norms = np.linalg.norm(g0_dw, axis=1, keepdims=True)\n",
    "g0_norms[g0_norms == 0] = 1\n",
    "g0_normalized = (g0_dw/g0_norms)\n",
    "g0_adj = g0_adj.toarray()\n",
    "\n",
    "g1_adj = nx.adjacency_matrix(g1)\n",
    "g1_lap = nx.laplacian_matrix(g1).toarray()\n",
    "g1_dw = helper.direct_compute_deepwalk_matrix(g1_adj, 10).toarray()\n",
    "g1_norms = np.linalg.norm(g1_dw, axis=1, keepdims=True)\n",
    "g1_norms[g1_norms == 0] = 1\n",
    "g1_normalized = (g1_dw/g1_norms)\n",
    "g1_adj = g1_adj.toarray()\n"
   ]
  },
  {
   "cell_type": "code",
   "execution_count": 28,
   "metadata": {},
   "outputs": [
    {
     "data": {
      "text/plain": [
       "<module 'algorithms.ETNA' from '/Users/llc/proj-net-embed/src/algorithms/ETNA.py'>"
      ]
     },
     "execution_count": 28,
     "metadata": {},
     "output_type": "execute_result"
    }
   ],
   "source": [
    "importlib.reload(etna)"
   ]
  },
  {
   "cell_type": "code",
   "execution_count": 29,
   "metadata": {},
   "outputs": [],
   "source": [
    "device = 'cpu'\n",
    "#initialize model\n",
    "model0 = etna.ETNAModel(len(g0.nodes), hidden_layers=[1024, 128], \n",
    "                        device=device, rbm_init=False, \n",
    "                        rbms=None).to(device)\n",
    "model1 = etna.ETNAModel(len(g1.nodes), hidden_layers=[1024, 128], \n",
    "                        device=device, rbm_init=False, \n",
    "                        rbms=None).to(device)\n",
    "trainer0 = etna.ETNATrainer(g0, model0, device=device, precal=True, \n",
    "                     matrices=(g0_adj, g0_lap, g0_dw, g0_normalized))\n",
    "trainer1 = etna.ETNATrainer(g1, model1, device=device, precal=True, \n",
    "                     matrices=(g1_adj, g1_lap, g1_dw, g1_normalized))"
   ]
  },
  {
   "cell_type": "code",
   "execution_count": 31,
   "metadata": {},
   "outputs": [],
   "source": [
    "optimizer_align = torch.optim.Adam(model0.encoders_parameters()+\n",
    "                                   model1.encoders_parameters(), \n",
    "                                  lr=0.001)\n",
    "scheduler_align = torch.optim.lr_scheduler.StepLR(optimizer_align, \n",
    "                                                  step_size=1, \n",
    "                                                  gamma=1)"
   ]
  },
  {
   "cell_type": "code",
   "execution_count": 32,
   "metadata": {},
   "outputs": [],
   "source": [
    "#model training\n",
    "for i in range(5):\n",
    "    for j in range(1):\n",
    "        trainer0.fit(batch_size=128, epochs=1, verbose=0)\n",
    "        trainer1.fit(batch_size=128, epochs=1, verbose=0)\n",
    "        \n",
    "    \n",
    "    for k in range(1):\n",
    "        etna.cross_training(trainer0, trainer1, ortholog_set,\n",
    "                            optimizer_align, scheduler_align, \n",
    "                            device, psi=1)\n"
   ]
  },
  {
   "cell_type": "code",
   "execution_count": 36,
   "metadata": {},
   "outputs": [],
   "source": [
    "#get embedding and score matrix\n",
    "emb0 = trainer0.get_embeddings()\n",
    "emb1 = trainer1.get_embeddings()\n",
    "S = metrics.pairwise.cosine_similarity(emb0, emb1)"
   ]
  },
  {
   "cell_type": "code",
   "execution_count": 39,
   "metadata": {},
   "outputs": [
    {
     "name": "stdout",
     "output_type": "stream",
     "text": [
      "0.7103785558842275 0.1590980092245576\n"
     ]
    }
   ],
   "source": [
    "auroc, auprc = evaluation.evaluate_all(S[org0_ontology_indexes][:,org1_ontology_indexes], \n",
    "                                           test_matrix, np.ones(test_matrix.shape))\n",
    "print(auroc, auprc)"
   ]
  },
  {
   "cell_type": "code",
   "execution_count": null,
   "metadata": {},
   "outputs": [],
   "source": []
  }
 ],
 "metadata": {
  "kernelspec": {
   "display_name": "Python 3",
   "language": "python",
   "name": "python3"
  },
  "language_info": {
   "codemirror_mode": {
    "name": "ipython",
    "version": 3
   },
   "file_extension": ".py",
   "mimetype": "text/x-python",
   "name": "python",
   "nbconvert_exporter": "python",
   "pygments_lexer": "ipython3",
   "version": "3.7.7"
  }
 },
 "nbformat": 4,
 "nbformat_minor": 4
}
